{
 "cells": [
  {
   "cell_type": "code",
   "execution_count": 1,
   "metadata": {},
   "outputs": [],
   "source": [
    "import os\n",
    "from google.cloud import vision\n",
    "import cv2\n",
    "from matplotlib import pyplot as plt\n",
    "os.environ[\"GOOGLE_APPLICATION_CREDENTIALS\"]=\"client_secrets.json\""
   ]
  },
  {
   "cell_type": "code",
   "execution_count": 2,
   "metadata": {},
   "outputs": [],
   "source": [
    "client = vision.ImageAnnotatorClient()"
   ]
  },
  {
   "cell_type": "code",
   "execution_count": 18,
   "metadata": {},
   "outputs": [],
   "source": [
    "import io\n",
    "\n",
    "#img = 'C:\\\\Users\\\\Dime\\\\Desktop\\\\Insight project\\\\compostmenot\\\\Notebooks\\\\optimization_images\\\\002_Pizza_Box.jpg'\n",
    "img = \"battery.jpg\"\n",
    "with io.open(img,'rb') as image_file:\n",
    "        content = image_file.read()\n"
   ]
  },
  {
   "cell_type": "code",
   "execution_count": 19,
   "metadata": {},
   "outputs": [],
   "source": [
    "image = vision.types.Image(content=content)"
   ]
  },
  {
   "cell_type": "code",
   "execution_count": 24,
   "metadata": {},
   "outputs": [
    {
     "name": "stdout",
     "output_type": "stream",
     "text": [
      "Number of objects found: 1\n",
      "\n",
      "Battery (confidence: 0.8040310144424438)\n",
      "Normalized bounding polygon vertices: \n",
      " - (0.41603267192840576, 0.23172056674957275)\n",
      " - (0.5778030753135681, 0.23172056674957275)\n",
      " - (0.5778030753135681, 0.7900505065917969)\n",
      " - (0.41603267192840576, 0.7900505065917969)\n"
     ]
    }
   ],
   "source": [
    "objects = client.object_localization(\n",
    "        image=image).localized_object_annotations\n",
    "objectList = []\n",
    "\n",
    "print('Number of objects found: {}'.format(len(objects)))\n",
    "for object_ in objects:\n",
    "    print('\\n{} (confidence: {})'.format(object_.name, object_.score))\n",
    "    objectList.append(object_.name)\n",
    "    print('Normalized bounding polygon vertices: ')\n",
    "    for vertex in object_.bounding_poly.normalized_vertices:\n",
    "        print(' - ({}, {})'.format(vertex.x, vertex.y))"
   ]
  },
  {
   "cell_type": "code",
   "execution_count": 25,
   "metadata": {},
   "outputs": [
    {
     "data": {
      "text/plain": [
       "['Battery']"
      ]
     },
     "execution_count": 25,
     "metadata": {},
     "output_type": "execute_result"
    }
   ],
   "source": [
    "objectList"
   ]
  },
  {
   "cell_type": "code",
   "execution_count": null,
   "metadata": {},
   "outputs": [],
   "source": []
  },
  {
   "cell_type": "code",
   "execution_count": null,
   "metadata": {},
   "outputs": [],
   "source": []
  },
  {
   "cell_type": "code",
   "execution_count": null,
   "metadata": {},
   "outputs": [],
   "source": []
  },
  {
   "cell_type": "code",
   "execution_count": null,
   "metadata": {},
   "outputs": [],
   "source": []
  },
  {
   "cell_type": "code",
   "execution_count": null,
   "metadata": {},
   "outputs": [],
   "source": []
  },
  {
   "cell_type": "code",
   "execution_count": null,
   "metadata": {},
   "outputs": [],
   "source": []
  },
  {
   "cell_type": "code",
   "execution_count": null,
   "metadata": {},
   "outputs": [],
   "source": []
  },
  {
   "cell_type": "code",
   "execution_count": null,
   "metadata": {},
   "outputs": [],
   "source": []
  },
  {
   "cell_type": "code",
   "execution_count": null,
   "metadata": {},
   "outputs": [],
   "source": []
  },
  {
   "cell_type": "code",
   "execution_count": null,
   "metadata": {},
   "outputs": [],
   "source": []
  },
  {
   "cell_type": "code",
   "execution_count": 22,
   "metadata": {},
   "outputs": [
    {
     "data": {
      "image/png": "[encoded data removed]",
      "text/plain": [
       "<Figure size 432x288 with 1 Axes>"
      ]
     },
     "metadata": {},
     "output_type": "display_data"
    }
   ],
   "source": [
    "#img = 'dog.jpg'\n",
    "img = cv2.imread(img)\n",
    "height = img.shape[0]\n",
    "width = img.shape[1]\n",
    "color = (0, 0, 255) \n",
    "thickness = 2\n",
    "\n",
    "for object_ in objects:\n",
    "    objectname = object_.name\n",
    "    count = 0\n",
    "    for vertex in object_.bounding_poly.normalized_vertices:\n",
    "        if(count == 0):\n",
    "            startX = int(width*vertex.x)\n",
    "            startY = int(height*vertex.y)\n",
    "        if(count == 2):\n",
    "            endX = int(width*vertex.x)\n",
    "            endY = int(height*vertex.y)\n",
    "        count += 1\n",
    "    img = cv2.rectangle(img, (startX, startY), (endX, endY), color, thickness) \n",
    "    cv2.putText(img, objectname, (startX, (startY-10)), cv2.FONT_HERSHEY_SIMPLEX, 0.3, (0, 0, 255), 1)\n",
    "\n",
    "plt.imshow(img)\n",
    "plt.xticks([]), plt.yticks([])  # to hide tick values on X and Y axis\n",
    "plt.show()\n",
    "\n",
    "cv2.imshow('sample image',img)\n",
    "cv2.waitKey(0) # waits until a key is pressed\n",
    "cv2.destroyAllWindows()"
   ]
  },
  {
   "cell_type": "code",
   "execution_count": null,
   "metadata": {},
   "outputs": [],
   "source": []
  }
 ],
 "metadata": {
  "kernelspec": {
   "display_name": "Python 3",
   "language": "python",
   "name": "python3"
  },
  "language_info": {
   "codemirror_mode": {
    "name": "ipython",
    "version": 3
   },
   "file_extension": ".py",
   "mimetype": "text/x-python",
   "name": "python",
   "nbconvert_exporter": "python",
   "pygments_lexer": "ipython3",
   "version": "3.7.6"
  }
 },
 "nbformat": 4,
 "nbformat_minor": 4
}
